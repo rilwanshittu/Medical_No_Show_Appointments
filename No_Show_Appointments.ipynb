{
 "cells": [
  {
   "cell_type": "markdown",
   "metadata": {},
   "source": [
    "# Project: No Show Appointments\n",
    "\n",
    "## Table of Contents\n",
    "<ul>\n",
    "<li><a href=\"#intro\">Introduction</a></li>\n",
    "<li><a href=\"#wrangling\">Data Wrangling</a></li>\n",
    "<li><a href=\"#eda\">Exploratory Data Analysis</a></li>\n",
    "<li><a href=\"#conclusions\">Conclusions</a></li>\n",
    "</ul>"
   ]
  },
  {
   "cell_type": "markdown",
   "metadata": {},
   "source": [
    "<a id='intro'></a>\n",
    "## Introduction\n",
    "\n",
    "This dataset includes information from 110,527 medical appointments in Brazil and is focused on the question of whether or not patients show up for their appointment. A number of characteristics about the patient and appointment are included in each row:\n",
    "\n",
    "\n",
    ">1. - **PatientId:** Identification of a patient \n",
    ">2. - **AppointmentID:** Identification of each appointment\n",
    ">3. - **Gender:** Male or Female. \n",
    ">4. - **ScheduledDay:** The day of the actuall appointment, when they have to visit the doctor.\n",
    "5. - **AppointmentDay:** The day someone called or registered the appointment, this is before appointment.\n",
    "6. - **Age:** How old is the patient.\n",
    "7. - **Neighbourhood:** Where the appointment takes place.\n",
    "8. - **Scholarship:** True of False. This indicates whether or not the patient is enrolled in the Brasilian welfare program- Bolsa Família.\n",
    "9. - **Hipertension (Hypertension):** True or False\n",
    "10. - **Diabetes:** True or False\n",
    "11. - **Alcoholism:** True or False\n",
    "12. - **Handcap(Handicap):** True or False\n",
    "13. - **SMS_received:** 1 or more messages sent to the patient.\n",
    "14. - **No-show:** True or False. It says ‘No’ if the patient showed up to their appointment, and ‘Yes’ if they did not show up. \n",
    "\n",
    "### Research Questions\n",
    "The following research questions have been raised from the dataset;\n",
    "1. Which gender is more likely to show up for their appointments?\n",
    "2. What is the probability that a handicap will not show up for their appointment?"
   ]
  },
  {
   "cell_type": "code",
   "execution_count": 124,
   "metadata": {},
   "outputs": [],
   "source": [
    "import pandas as pd\n",
    "import numpy as np\n",
    "import matplotlib.pyplot as plt\n",
    "import seaborn as sns\n",
    "sns.set_style(\"darkgrid\")\n",
    "%matplotlib inline"
   ]
  },
  {
   "cell_type": "markdown",
   "metadata": {},
   "source": [
    "<a id='wrangling'></a>\n",
    "## Data Wrangling\n"
   ]
  },
  {
   "cell_type": "code",
   "execution_count": 125,
   "metadata": {
    "scrolled": true
   },
   "outputs": [
    {
     "data": {
      "text/html": [
       "<div>\n",
       "<style scoped>\n",
       "    .dataframe tbody tr th:only-of-type {\n",
       "        vertical-align: middle;\n",
       "    }\n",
       "\n",
       "    .dataframe tbody tr th {\n",
       "        vertical-align: top;\n",
       "    }\n",
       "\n",
       "    .dataframe thead th {\n",
       "        text-align: right;\n",
       "    }\n",
       "</style>\n",
       "<table border=\"1\" class=\"dataframe\">\n",
       "  <thead>\n",
       "    <tr style=\"text-align: right;\">\n",
       "      <th></th>\n",
       "      <th>PatientId</th>\n",
       "      <th>AppointmentID</th>\n",
       "      <th>Gender</th>\n",
       "      <th>ScheduledDay</th>\n",
       "      <th>AppointmentDay</th>\n",
       "      <th>Age</th>\n",
       "      <th>Neighbourhood</th>\n",
       "      <th>Scholarship</th>\n",
       "      <th>Hipertension</th>\n",
       "      <th>Diabetes</th>\n",
       "      <th>Alcoholism</th>\n",
       "      <th>Handcap</th>\n",
       "      <th>SMS_received</th>\n",
       "      <th>No-show</th>\n",
       "    </tr>\n",
       "  </thead>\n",
       "  <tbody>\n",
       "    <tr>\n",
       "      <th>0</th>\n",
       "      <td>2.987250e+13</td>\n",
       "      <td>5642903</td>\n",
       "      <td>F</td>\n",
       "      <td>2016-04-29T18:38:08Z</td>\n",
       "      <td>2016-04-29T00:00:00Z</td>\n",
       "      <td>62</td>\n",
       "      <td>JARDIM DA PENHA</td>\n",
       "      <td>0</td>\n",
       "      <td>1</td>\n",
       "      <td>0</td>\n",
       "      <td>0</td>\n",
       "      <td>0</td>\n",
       "      <td>0</td>\n",
       "      <td>No</td>\n",
       "    </tr>\n",
       "    <tr>\n",
       "      <th>1</th>\n",
       "      <td>5.589978e+14</td>\n",
       "      <td>5642503</td>\n",
       "      <td>M</td>\n",
       "      <td>2016-04-29T16:08:27Z</td>\n",
       "      <td>2016-04-29T00:00:00Z</td>\n",
       "      <td>56</td>\n",
       "      <td>JARDIM DA PENHA</td>\n",
       "      <td>0</td>\n",
       "      <td>0</td>\n",
       "      <td>0</td>\n",
       "      <td>0</td>\n",
       "      <td>0</td>\n",
       "      <td>0</td>\n",
       "      <td>No</td>\n",
       "    </tr>\n",
       "    <tr>\n",
       "      <th>2</th>\n",
       "      <td>4.262962e+12</td>\n",
       "      <td>5642549</td>\n",
       "      <td>F</td>\n",
       "      <td>2016-04-29T16:19:04Z</td>\n",
       "      <td>2016-04-29T00:00:00Z</td>\n",
       "      <td>62</td>\n",
       "      <td>MATA DA PRAIA</td>\n",
       "      <td>0</td>\n",
       "      <td>0</td>\n",
       "      <td>0</td>\n",
       "      <td>0</td>\n",
       "      <td>0</td>\n",
       "      <td>0</td>\n",
       "      <td>No</td>\n",
       "    </tr>\n",
       "    <tr>\n",
       "      <th>3</th>\n",
       "      <td>8.679512e+11</td>\n",
       "      <td>5642828</td>\n",
       "      <td>F</td>\n",
       "      <td>2016-04-29T17:29:31Z</td>\n",
       "      <td>2016-04-29T00:00:00Z</td>\n",
       "      <td>8</td>\n",
       "      <td>PONTAL DE CAMBURI</td>\n",
       "      <td>0</td>\n",
       "      <td>0</td>\n",
       "      <td>0</td>\n",
       "      <td>0</td>\n",
       "      <td>0</td>\n",
       "      <td>0</td>\n",
       "      <td>No</td>\n",
       "    </tr>\n",
       "    <tr>\n",
       "      <th>4</th>\n",
       "      <td>8.841186e+12</td>\n",
       "      <td>5642494</td>\n",
       "      <td>F</td>\n",
       "      <td>2016-04-29T16:07:23Z</td>\n",
       "      <td>2016-04-29T00:00:00Z</td>\n",
       "      <td>56</td>\n",
       "      <td>JARDIM DA PENHA</td>\n",
       "      <td>0</td>\n",
       "      <td>1</td>\n",
       "      <td>1</td>\n",
       "      <td>0</td>\n",
       "      <td>0</td>\n",
       "      <td>0</td>\n",
       "      <td>No</td>\n",
       "    </tr>\n",
       "  </tbody>\n",
       "</table>\n",
       "</div>"
      ],
      "text/plain": [
       "      PatientId  AppointmentID Gender          ScheduledDay  \\\n",
       "0  2.987250e+13        5642903      F  2016-04-29T18:38:08Z   \n",
       "1  5.589978e+14        5642503      M  2016-04-29T16:08:27Z   \n",
       "2  4.262962e+12        5642549      F  2016-04-29T16:19:04Z   \n",
       "3  8.679512e+11        5642828      F  2016-04-29T17:29:31Z   \n",
       "4  8.841186e+12        5642494      F  2016-04-29T16:07:23Z   \n",
       "\n",
       "         AppointmentDay  Age      Neighbourhood  Scholarship  Hipertension  \\\n",
       "0  2016-04-29T00:00:00Z   62    JARDIM DA PENHA            0             1   \n",
       "1  2016-04-29T00:00:00Z   56    JARDIM DA PENHA            0             0   \n",
       "2  2016-04-29T00:00:00Z   62      MATA DA PRAIA            0             0   \n",
       "3  2016-04-29T00:00:00Z    8  PONTAL DE CAMBURI            0             0   \n",
       "4  2016-04-29T00:00:00Z   56    JARDIM DA PENHA            0             1   \n",
       "\n",
       "   Diabetes  Alcoholism  Handcap  SMS_received No-show  \n",
       "0         0           0        0             0      No  \n",
       "1         0           0        0             0      No  \n",
       "2         0           0        0             0      No  \n",
       "3         0           0        0             0      No  \n",
       "4         1           0        0             0      No  "
      ]
     },
     "execution_count": 125,
     "metadata": {},
     "output_type": "execute_result"
    }
   ],
   "source": [
    "# Loading the dataset and viewing the first few rows to get an overview of its features\n",
    "nsa = pd.read_csv('no-show-appointments.csv')\n",
    "nsa.head()"
   ]
  },
  {
   "cell_type": "code",
   "execution_count": 126,
   "metadata": {},
   "outputs": [
    {
     "data": {
      "text/plain": [
       "(110527, 14)"
      ]
     },
     "execution_count": 126,
     "metadata": {},
     "output_type": "execute_result"
    }
   ],
   "source": [
    "#number of rows and colums\n",
    "nsa.shape"
   ]
  },
  {
   "cell_type": "code",
   "execution_count": 127,
   "metadata": {},
   "outputs": [
    {
     "data": {
      "text/plain": [
       "0"
      ]
     },
     "execution_count": 127,
     "metadata": {},
     "output_type": "execute_result"
    }
   ],
   "source": [
    "# Are there duplicate rows?\n",
    "nsa.duplicated().sum()"
   ]
  },
  {
   "cell_type": "code",
   "execution_count": 128,
   "metadata": {},
   "outputs": [],
   "source": [
    "# A look at the table above shows there are features we don't need. Hence, they will be dropped\n",
    "nsa.drop(['PatientId', 'AppointmentID'], axis=1, inplace=True)"
   ]
  },
  {
   "cell_type": "code",
   "execution_count": 129,
   "metadata": {},
   "outputs": [],
   "source": [
    "# Correct column spelling errors. Although 'No-show' is spelt coreectly. it has been edited for uniformity by replacing '-' with '_'\n",
    "nsa.rename(columns= {'Hipertension' : 'Hypertension', 'Handcap' : 'Handicap', 'No-show' : 'No_show'}, inplace=True)"
   ]
  },
  {
   "cell_type": "code",
   "execution_count": 130,
   "metadata": {
    "scrolled": true
   },
   "outputs": [
    {
     "data": {
      "text/html": [
       "<div>\n",
       "<style scoped>\n",
       "    .dataframe tbody tr th:only-of-type {\n",
       "        vertical-align: middle;\n",
       "    }\n",
       "\n",
       "    .dataframe tbody tr th {\n",
       "        vertical-align: top;\n",
       "    }\n",
       "\n",
       "    .dataframe thead th {\n",
       "        text-align: right;\n",
       "    }\n",
       "</style>\n",
       "<table border=\"1\" class=\"dataframe\">\n",
       "  <thead>\n",
       "    <tr style=\"text-align: right;\">\n",
       "      <th></th>\n",
       "      <th>Gender</th>\n",
       "      <th>ScheduledDay</th>\n",
       "      <th>AppointmentDay</th>\n",
       "      <th>Age</th>\n",
       "      <th>Neighbourhood</th>\n",
       "      <th>Scholarship</th>\n",
       "      <th>Hypertension</th>\n",
       "      <th>Diabetes</th>\n",
       "      <th>Alcoholism</th>\n",
       "      <th>Handicap</th>\n",
       "      <th>SMS_received</th>\n",
       "      <th>No_show</th>\n",
       "    </tr>\n",
       "  </thead>\n",
       "  <tbody>\n",
       "    <tr>\n",
       "      <th>0</th>\n",
       "      <td>F</td>\n",
       "      <td>2016-04-29T18:38:08Z</td>\n",
       "      <td>2016-04-29T00:00:00Z</td>\n",
       "      <td>62</td>\n",
       "      <td>JARDIM DA PENHA</td>\n",
       "      <td>0</td>\n",
       "      <td>1</td>\n",
       "      <td>0</td>\n",
       "      <td>0</td>\n",
       "      <td>0</td>\n",
       "      <td>0</td>\n",
       "      <td>No</td>\n",
       "    </tr>\n",
       "  </tbody>\n",
       "</table>\n",
       "</div>"
      ],
      "text/plain": [
       "  Gender          ScheduledDay        AppointmentDay  Age    Neighbourhood  \\\n",
       "0      F  2016-04-29T18:38:08Z  2016-04-29T00:00:00Z   62  JARDIM DA PENHA   \n",
       "\n",
       "   Scholarship  Hypertension  Diabetes  Alcoholism  Handicap  SMS_received  \\\n",
       "0            0             1         0           0         0             0   \n",
       "\n",
       "  No_show  \n",
       "0      No  "
      ]
     },
     "execution_count": 130,
     "metadata": {},
     "output_type": "execute_result"
    }
   ],
   "source": [
    "# check for dropped columns and spelling correctness\n",
    "nsa.head(1)"
   ]
  },
  {
   "cell_type": "code",
   "execution_count": 131,
   "metadata": {},
   "outputs": [
    {
     "data": {
      "text/plain": [
       "(110527, 12)"
      ]
     },
     "execution_count": 131,
     "metadata": {},
     "output_type": "execute_result"
    }
   ],
   "source": [
    "# current number of rows and colums after dropping some\n",
    "nsa.shape"
   ]
  },
  {
   "cell_type": "code",
   "execution_count": 132,
   "metadata": {
    "scrolled": true
   },
   "outputs": [
    {
     "data": {
      "text/html": [
       "<div>\n",
       "<style scoped>\n",
       "    .dataframe tbody tr th:only-of-type {\n",
       "        vertical-align: middle;\n",
       "    }\n",
       "\n",
       "    .dataframe tbody tr th {\n",
       "        vertical-align: top;\n",
       "    }\n",
       "\n",
       "    .dataframe thead th {\n",
       "        text-align: right;\n",
       "    }\n",
       "</style>\n",
       "<table border=\"1\" class=\"dataframe\">\n",
       "  <thead>\n",
       "    <tr style=\"text-align: right;\">\n",
       "      <th></th>\n",
       "      <th>Age</th>\n",
       "      <th>Scholarship</th>\n",
       "      <th>Hypertension</th>\n",
       "      <th>Diabetes</th>\n",
       "      <th>Alcoholism</th>\n",
       "      <th>Handicap</th>\n",
       "      <th>SMS_received</th>\n",
       "    </tr>\n",
       "  </thead>\n",
       "  <tbody>\n",
       "    <tr>\n",
       "      <th>count</th>\n",
       "      <td>110527.000000</td>\n",
       "      <td>110527.000000</td>\n",
       "      <td>110527.000000</td>\n",
       "      <td>110527.000000</td>\n",
       "      <td>110527.000000</td>\n",
       "      <td>110527.000000</td>\n",
       "      <td>110527.000000</td>\n",
       "    </tr>\n",
       "    <tr>\n",
       "      <th>mean</th>\n",
       "      <td>37.088874</td>\n",
       "      <td>0.098266</td>\n",
       "      <td>0.197246</td>\n",
       "      <td>0.071865</td>\n",
       "      <td>0.030400</td>\n",
       "      <td>0.022248</td>\n",
       "      <td>0.321026</td>\n",
       "    </tr>\n",
       "    <tr>\n",
       "      <th>std</th>\n",
       "      <td>23.110205</td>\n",
       "      <td>0.297675</td>\n",
       "      <td>0.397921</td>\n",
       "      <td>0.258265</td>\n",
       "      <td>0.171686</td>\n",
       "      <td>0.161543</td>\n",
       "      <td>0.466873</td>\n",
       "    </tr>\n",
       "    <tr>\n",
       "      <th>min</th>\n",
       "      <td>-1.000000</td>\n",
       "      <td>0.000000</td>\n",
       "      <td>0.000000</td>\n",
       "      <td>0.000000</td>\n",
       "      <td>0.000000</td>\n",
       "      <td>0.000000</td>\n",
       "      <td>0.000000</td>\n",
       "    </tr>\n",
       "    <tr>\n",
       "      <th>25%</th>\n",
       "      <td>18.000000</td>\n",
       "      <td>0.000000</td>\n",
       "      <td>0.000000</td>\n",
       "      <td>0.000000</td>\n",
       "      <td>0.000000</td>\n",
       "      <td>0.000000</td>\n",
       "      <td>0.000000</td>\n",
       "    </tr>\n",
       "    <tr>\n",
       "      <th>50%</th>\n",
       "      <td>37.000000</td>\n",
       "      <td>0.000000</td>\n",
       "      <td>0.000000</td>\n",
       "      <td>0.000000</td>\n",
       "      <td>0.000000</td>\n",
       "      <td>0.000000</td>\n",
       "      <td>0.000000</td>\n",
       "    </tr>\n",
       "    <tr>\n",
       "      <th>75%</th>\n",
       "      <td>55.000000</td>\n",
       "      <td>0.000000</td>\n",
       "      <td>0.000000</td>\n",
       "      <td>0.000000</td>\n",
       "      <td>0.000000</td>\n",
       "      <td>0.000000</td>\n",
       "      <td>1.000000</td>\n",
       "    </tr>\n",
       "    <tr>\n",
       "      <th>max</th>\n",
       "      <td>115.000000</td>\n",
       "      <td>1.000000</td>\n",
       "      <td>1.000000</td>\n",
       "      <td>1.000000</td>\n",
       "      <td>1.000000</td>\n",
       "      <td>4.000000</td>\n",
       "      <td>1.000000</td>\n",
       "    </tr>\n",
       "  </tbody>\n",
       "</table>\n",
       "</div>"
      ],
      "text/plain": [
       "                 Age    Scholarship   Hypertension       Diabetes  \\\n",
       "count  110527.000000  110527.000000  110527.000000  110527.000000   \n",
       "mean       37.088874       0.098266       0.197246       0.071865   \n",
       "std        23.110205       0.297675       0.397921       0.258265   \n",
       "min        -1.000000       0.000000       0.000000       0.000000   \n",
       "25%        18.000000       0.000000       0.000000       0.000000   \n",
       "50%        37.000000       0.000000       0.000000       0.000000   \n",
       "75%        55.000000       0.000000       0.000000       0.000000   \n",
       "max       115.000000       1.000000       1.000000       1.000000   \n",
       "\n",
       "          Alcoholism       Handicap   SMS_received  \n",
       "count  110527.000000  110527.000000  110527.000000  \n",
       "mean        0.030400       0.022248       0.321026  \n",
       "std         0.171686       0.161543       0.466873  \n",
       "min         0.000000       0.000000       0.000000  \n",
       "25%         0.000000       0.000000       0.000000  \n",
       "50%         0.000000       0.000000       0.000000  \n",
       "75%         0.000000       0.000000       1.000000  \n",
       "max         1.000000       4.000000       1.000000  "
      ]
     },
     "execution_count": 132,
     "metadata": {},
     "output_type": "execute_result"
    }
   ],
   "source": [
    "# A descriptive summary of the dataset. It can be observed that the max 'Handicap' is 4. This will be investigated because\n",
    "# the column should contain either False(0) or True(1) (according to the original dataset on kaggle).\n",
    "nsa.describe()"
   ]
  },
  {
   "cell_type": "code",
   "execution_count": 133,
   "metadata": {},
   "outputs": [
    {
     "data": {
      "text/plain": [
       "0    108286\n",
       "1      2042\n",
       "2       183\n",
       "3        13\n",
       "4         3\n",
       "Name: Handicap, dtype: int64"
      ]
     },
     "execution_count": 133,
     "metadata": {},
     "output_type": "execute_result"
    }
   ],
   "source": [
    "# Investigating the issue from 'Handicap' discovered above. it can be seen that not just 4 but the numbers 2 and 3 are also well\n",
    "#represented in the dataset. The question here is- does this mean these people had multiple handicaps (2/3/4 handicaps) or \n",
    "# they are simply handicap? I will go with the latter which is in line with what is stated in the 'about page' of the original\n",
    "# dataset on kaggle - it should simply be True(1) or False(0).\n",
    "# Hence, 'Handicap' values above 1 will be converted to 1\n",
    "nsa.Handicap.value_counts()"
   ]
  },
  {
   "cell_type": "code",
   "execution_count": 134,
   "metadata": {},
   "outputs": [],
   "source": [
    "# Converting values in 'Handicap' to make all values greater than 1 == 1 to signify True.\n",
    "nsa.loc[nsa['Handicap'] > 1, 'Handicap'] = 1"
   ]
  },
  {
   "cell_type": "code",
   "execution_count": 135,
   "metadata": {},
   "outputs": [
    {
     "data": {
      "text/plain": [
       "array([0, 1], dtype=int64)"
      ]
     },
     "execution_count": 135,
     "metadata": {},
     "output_type": "execute_result"
    }
   ],
   "source": [
    "#check to see correct 'Handicap' values\n",
    "nsa.Handicap.unique()"
   ]
  },
  {
   "cell_type": "code",
   "execution_count": 136,
   "metadata": {},
   "outputs": [
    {
     "name": "stdout",
     "output_type": "stream",
     "text": [
      "<class 'pandas.core.frame.DataFrame'>\n",
      "RangeIndex: 110527 entries, 0 to 110526\n",
      "Data columns (total 12 columns):\n",
      " #   Column          Non-Null Count   Dtype \n",
      "---  ------          --------------   ----- \n",
      " 0   Gender          110527 non-null  object\n",
      " 1   ScheduledDay    110527 non-null  object\n",
      " 2   AppointmentDay  110527 non-null  object\n",
      " 3   Age             110527 non-null  int64 \n",
      " 4   Neighbourhood   110527 non-null  object\n",
      " 5   Scholarship     110527 non-null  int64 \n",
      " 6   Hypertension    110527 non-null  int64 \n",
      " 7   Diabetes        110527 non-null  int64 \n",
      " 8   Alcoholism      110527 non-null  int64 \n",
      " 9   Handicap        110527 non-null  int64 \n",
      " 10  SMS_received    110527 non-null  int64 \n",
      " 11  No_show         110527 non-null  object\n",
      "dtypes: int64(7), object(5)\n",
      "memory usage: 10.1+ MB\n"
     ]
    }
   ],
   "source": [
    "# Does the dataset contain null values? Since all rows match the total number of rows- there are none.\n",
    "nsa.info()"
   ]
  },
  {
   "cell_type": "code",
   "execution_count": 137,
   "metadata": {
    "scrolled": true
   },
   "outputs": [
    {
     "data": {
      "image/png": "[encoded data removed]",
      "text/plain": [
       "<Figure size 720x576 with 9 Axes>"
      ]
     },
     "metadata": {
      "needs_background": "light"
     },
     "output_type": "display_data"
    }
   ],
   "source": [
    "# Visual distribution of the variables in the dataset. \n",
    "nsa.hist(figsize=(10,8));"
   ]
  },
  {
   "cell_type": "markdown",
   "metadata": {},
   "source": [
    ">**From the histograms above. It can be seen that about half of them received at least 1 SMS alert prior to their appointment. A quarter of the patients are also hypertensive and much less than that have diabetes or drinking problems.**"
   ]
  },
  {
   "cell_type": "markdown",
   "metadata": {},
   "source": [
    "<a id='eda'></a>\n",
    "## Exploratory Data Analysis\n",
    "\n",
    ">This section looks to explore the research questions posed in the introduction.\n",
    "\n",
    "### Research Question 1 (Which gender is more likely to show up for their appointments?)"
   ]
  },
  {
   "cell_type": "code",
   "execution_count": 138,
   "metadata": {},
   "outputs": [],
   "source": [
    "# Distinction of genders from the dataset\n",
    "females = nsa[nsa['Gender'] == 'F']\n",
    "males = nsa[nsa['Gender'] == 'M']"
   ]
  },
  {
   "cell_type": "code",
   "execution_count": 139,
   "metadata": {},
   "outputs": [
    {
     "data": {
      "text/plain": [
       "Gender  No_show\n",
       "F       No         57246\n",
       "        Yes        14594\n",
       "M       No         30962\n",
       "        Yes         7725\n",
       "Name: Gender, dtype: int64"
      ]
     },
     "execution_count": 139,
     "metadata": {},
     "output_type": "execute_result"
    }
   ],
   "source": [
    "# Distinction of genders from the dataset in relation to whether they showed up or not\n",
    "showed = nsa.groupby(['Gender', 'No_show'])['Gender'].count()\n",
    "showed"
   ]
  },
  {
   "cell_type": "code",
   "execution_count": 140,
   "metadata": {},
   "outputs": [],
   "source": [
    "# Extraction of information for variable assignments and analysis\n",
    "\n",
    "no_show_f = showed[1]                 #Females that did not show up\n",
    "f_that_showed = showed[0]             #Females that showed up\n",
    "total_f = (no_show_f + f_that_showed) #Total females\n",
    "\n",
    "no_show_m = showed[3]                 #Males that did not show up\n",
    "m_that_showed = showed[2]             #Males that showed up\n",
    "total_m = (no_show_m + m_that_showed) #Total males\n"
   ]
  },
  {
   "cell_type": "code",
   "execution_count": 141,
   "metadata": {
    "scrolled": true
   },
   "outputs": [],
   "source": [
    "# Bar graph function definition\n",
    "positions = [1,2]\n",
    "labels = ['Females', 'Males']\n",
    "f_and_m_that_showed = [f_that_showed, m_that_showed] \n",
    "colors = ['pink', 'blue']\n",
    "\n",
    "def bar_graph(position, heights, x, y, t): \n",
    "    \"\"\" creates a bar chart containing 2 bars.\n",
    "    \n",
    "    Parameters\n",
    "    ----------\n",
    "    position : [int,int]\n",
    "        position of bars \n",
    "    heights : [int,int]\n",
    "        values to be placed at the positions\n",
    "    x : str\n",
    "        xlabel\n",
    "    y : str\n",
    "        ylabel\n",
    "    t : str\n",
    "        title of the graph\n",
    "        \n",
    "    Returns\n",
    "    -------\n",
    "    A bar graph containing 2 variables\n",
    "    \n",
    "    \"\"\"\n",
    "    plot = plt.bar(position, heights, color=colors, tick_label=labels, edgecolor=\"black\")\n",
    "    xlab = plt.xlabel(x)\n",
    "    ylab = plt.ylabel(y)\n",
    "    title = plt.title(t)\n",
    "    return plot, xlab, ylab, title"
   ]
  },
  {
   "cell_type": "code",
   "execution_count": 142,
   "metadata": {},
   "outputs": [
    {
     "data": {
      "image/png": "[encoded data removed]",
      "text/plain": [
       "<Figure size 432x288 with 1 Axes>"
      ]
     },
     "metadata": {
      "needs_background": "light"
     },
     "output_type": "display_data"
    }
   ],
   "source": [
    "# Calling the bar_graph function\n",
    "bar_graph(positions, f_and_m_that_showed, 'Gender', 'total number', 'Females and males that showed up for their appointments');"
   ]
  },
  {
   "cell_type": "markdown",
   "metadata": {},
   "source": [
    ">**The bar graph above clearly shows that almost a 100% more women had medical appointments. However, this doesn't answer whether women are more likely to show up for their medical appointments. This will have to be investigated further.** "
   ]
  },
  {
   "cell_type": "code",
   "execution_count": 143,
   "metadata": {},
   "outputs": [
    {
     "data": {
      "text/plain": [
       "79.68541202672606"
      ]
     },
     "execution_count": 143,
     "metadata": {},
     "output_type": "execute_result"
    }
   ],
   "source": [
    "# Percentage of females that showed up for their appointments in relation to the total appointments made by females\n",
    "\n",
    "percent_f = (f_that_showed / total_f) * 100\n",
    "percent_f"
   ]
  },
  {
   "cell_type": "code",
   "execution_count": 144,
   "metadata": {},
   "outputs": [
    {
     "data": {
      "text/plain": [
       "80.03205211052808"
      ]
     },
     "execution_count": 144,
     "metadata": {},
     "output_type": "execute_result"
    }
   ],
   "source": [
    "# Percentage of males that showed up for their appointments in relation to the total appointments made by males\n",
    "percent_m = (m_that_showed / total_m) * 100\n",
    "percent_m"
   ]
  },
  {
   "cell_type": "code",
   "execution_count": 145,
   "metadata": {
    "scrolled": true
   },
   "outputs": [
    {
     "data": {
      "image/png": "[encoded data removed]",
      "text/plain": [
       "<Figure size 432x288 with 1 Axes>"
      ]
     },
     "metadata": {
      "needs_background": "light"
     },
     "output_type": "display_data"
    }
   ],
   "source": [
    "# calling the bar_graph function to reveal the likelihood of a female and male to show up for their appointments in relation to the total\n",
    "# appointments by their gender\n",
    "\n",
    "percent = [percent_f, percent_m]\n",
    "\n",
    "bar_graph(positions, percent, 'Gender', 'Percentage(%)', 'Females and males that showed up for their appointments in relation to the total appointments by their gender');"
   ]
  },
  {
   "cell_type": "markdown",
   "metadata": {},
   "source": [
    ">**Contrary to what was observed in the previous grapgh, we now see that women and men both have about an 80% chance of coming for their appointments, which is a fairly good rate of attendance.**"
   ]
  },
  {
   "cell_type": "markdown",
   "metadata": {},
   "source": [
    "### Research Question 2  (What is the probability that a handicap will not show up for their appointment?)"
   ]
  },
  {
   "cell_type": "code",
   "execution_count": 146,
   "metadata": {},
   "outputs": [],
   "source": [
    "# Creation of dataframes to distinguish handicaps from those that aren't\n",
    "is_handicap = nsa[nsa['Handicap'] == 1]\n",
    "isnt_handicap = nsa[nsa['Handicap'] == 0]"
   ]
  },
  {
   "cell_type": "code",
   "execution_count": 147,
   "metadata": {},
   "outputs": [
    {
     "data": {
      "text/plain": [
       "(2241, 108286)"
      ]
     },
     "execution_count": 147,
     "metadata": {},
     "output_type": "execute_result"
    }
   ],
   "source": [
    "# Counting them and assigning the values to variables\n",
    "is_handicap_count = is_handicap['Handicap'].count()\n",
    "isnt_handicap_count = isnt_handicap['Handicap'].count()\n",
    "is_handicap_count, isnt_handicap_count"
   ]
  },
  {
   "cell_type": "code",
   "execution_count": 148,
   "metadata": {},
   "outputs": [],
   "source": [
    "# Barh_graph function definition\n",
    "positions = [1,2]\n",
    "labels= ['Handicap', 'Not Handicap']\n",
    "values= [is_handicap_count, isnt_handicap_count]\n",
    "colors = ['red', 'blue']\n",
    "\n",
    "def barh_graph(position, heights, x, y, t): \n",
    "    \"\"\" creates a horizontal bar chart containing 2 bars.\n",
    "    \n",
    "    Parameters\n",
    "    ----------\n",
    "    position : [int,int]\n",
    "        position of bars \n",
    "    heights : [int,int]\n",
    "        values to be placed at the positions\n",
    "    x : str\n",
    "        xlabel\n",
    "    y : str\n",
    "        ylabel\n",
    "    t : str\n",
    "        title of the graph\n",
    "        \n",
    "    Returns\n",
    "    -------\n",
    "    A detailed horizontal bar graph containing 2 variables\n",
    "    \n",
    "    \"\"\"\n",
    "    plot = plt.barh(position, heights, color=colors, tick_label=labels, edgecolor=\"black\")\n",
    "    xlab = plt.xlabel(x)\n",
    "    ylab = plt.ylabel(y)\n",
    "    title = plt.title(t)\n",
    "    return plot, xlab, ylab, title"
   ]
  },
  {
   "cell_type": "code",
   "execution_count": 149,
   "metadata": {},
   "outputs": [
    {
     "data": {
      "image/png": "[encoded data removed]",
      "text/plain": [
       "<Figure size 432x288 with 1 Axes>"
      ]
     },
     "metadata": {
      "needs_background": "light"
     },
     "output_type": "display_data"
    }
   ],
   "source": [
    "# Calling the barh_graph function  to compare the totals\n",
    "barh_graph(positions, values, 'Total number', 'Handicap', 'Handicap count');"
   ]
  },
  {
   "cell_type": "markdown",
   "metadata": {},
   "source": [
    ">**At less than 5,000, there aren't many handicaps when compared to those that are not handicapped who are over 110,000.**"
   ]
  },
  {
   "cell_type": "code",
   "execution_count": 150,
   "metadata": {},
   "outputs": [
    {
     "data": {
      "text/plain": [
       "No_show\n",
       "No     1834\n",
       "Yes     407\n",
       "Name: No_show, dtype: int64"
      ]
     },
     "execution_count": 150,
     "metadata": {},
     "output_type": "execute_result"
    }
   ],
   "source": [
    "# Grouping by handicaps to reveal the number that showed up and those that did not.\n",
    "handicaps = is_handicap.groupby(['No_show'])['No_show'].count()\n",
    "handicaps"
   ]
  },
  {
   "cell_type": "code",
   "execution_count": 151,
   "metadata": {},
   "outputs": [
    {
     "data": {
      "text/plain": [
       "18.16153502900491"
      ]
     },
     "execution_count": 151,
     "metadata": {},
     "output_type": "execute_result"
    }
   ],
   "source": [
    "# variable assignments after extracting information from the code cells above\n",
    "handicap_that_showedup = handicaps[0]\n",
    "handicap_that_didntshow = handicaps[1]\n",
    "hand_chance_of_noshow = (handicap_that_didntshow / is_handicap_count) * 100\n",
    "hand_chance_of_noshow"
   ]
  },
  {
   "cell_type": "code",
   "execution_count": 152,
   "metadata": {},
   "outputs": [
    {
     "data": {
      "text/plain": [
       "No_show\n",
       "No     86374\n",
       "Yes    21912\n",
       "Name: No_show, dtype: int64"
      ]
     },
     "execution_count": 152,
     "metadata": {},
     "output_type": "execute_result"
    }
   ],
   "source": [
    "# Grouping those that are not handicapped to reveal the number that showed up and those that did not.\n",
    "not_hadicaps = isnt_handicap.groupby(['No_show'])['No_show'].count()\n",
    "not_hadicaps"
   ]
  },
  {
   "cell_type": "code",
   "execution_count": 153,
   "metadata": {},
   "outputs": [
    {
     "data": {
      "text/plain": [
       "20.235302809227417"
      ]
     },
     "execution_count": 153,
     "metadata": {},
     "output_type": "execute_result"
    }
   ],
   "source": [
    "# variable assignments after extracting information from the code cells above\n",
    "isnt_handicap_that_showedup = not_hadicaps[0]\n",
    "isnt_handicap_that_didntshow = not_hadicaps[1]\n",
    "isnt_hand_chance_of_noshow = (isnt_handicap_that_didntshow / isnt_handicap_count) * 100\n",
    "isnt_hand_chance_of_noshow"
   ]
  },
  {
   "cell_type": "code",
   "execution_count": 154,
   "metadata": {},
   "outputs": [
    {
     "data": {
      "image/png": "[encoded data removed]",
      "text/plain": [
       "<Figure size 432x288 with 1 Axes>"
      ]
     },
     "metadata": {
      "needs_background": "light"
     },
     "output_type": "display_data"
    }
   ],
   "source": [
    "# Calling the barh_graph function to compare the likelihood of no shows\n",
    "\n",
    "values = [hand_chance_of_noshow, isnt_hand_chance_of_noshow]\n",
    "\n",
    "barh_graph(positions, values, 'percentage(%)', 'Handicap', 'Likelihood of not showing up for their appointments');"
   ]
  },
  {
   "cell_type": "markdown",
   "metadata": {},
   "source": [
    ">**The horizontal bar gragh shows that there is an almost equal chance that a person that is handicap will _not_ make it to a medical appointment as a person that is not handicapped. In fact, those that are not handicap have about a 2% greater chance of not showing up for their appointments.**"
   ]
  },
  {
   "cell_type": "markdown",
   "metadata": {},
   "source": [
    "<a id='conclusions'></a>\n",
    "## Conclusions\n",
    "\n",
    ">**In conclusion, we have seen women tend to visit the hospital more than men. Nonetheless, they both have the close to the same chance of showing up for their appointments. The likelihood of missing an appointment due to a physical impairment was also investigated and a surprising observation that those that had no physical disabilities were about 2% less likely to make it to their appointments.**"
   ]
  },
  {
   "cell_type": "markdown",
   "metadata": {},
   "source": [
    "### Limitations\n",
    "\n",
    ">1. The dataset does not state the specific reason(s) why a patient did not show up.\n",
    ">2. Only 3 features (Gender, Handicap, No_show) from a possible 14 have been analysed. If investigated, these other features could hold much deeper insights."
   ]
  }
 ],
 "metadata": {
  "kernelspec": {
   "display_name": "Python 3 (ipykernel)",
   "language": "python",
   "name": "python3"
  },
  "language_info": {
   "codemirror_mode": {
    "name": "ipython",
    "version": 3
   },
   "file_extension": ".py",
   "mimetype": "text/x-python",
   "name": "python",
   "nbconvert_exporter": "python",
   "pygments_lexer": "ipython3",
   "version": "3.9.12"
  }
 },
 "nbformat": 4,
 "nbformat_minor": 2
}
